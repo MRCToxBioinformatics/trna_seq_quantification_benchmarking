{
 "cells": [
  {
   "cell_type": "code",
   "execution_count": 9,
   "id": "979395d3",
   "metadata": {},
   "outputs": [
    {
     "ename": "ModuleNotFoundError",
     "evalue": "No module named 'simulatetrna'",
     "output_type": "error",
     "traceback": [
      "\u001b[0;31m---------------------------------------------------------------------------\u001b[0m",
      "\u001b[0;31mModuleNotFoundError\u001b[0m                       Traceback (most recent call last)",
      "Input \u001b[0;32mIn [9]\u001b[0m, in \u001b[0;36m<cell line: 5>\u001b[0;34m()\u001b[0m\n\u001b[1;32m      3\u001b[0m \u001b[38;5;28;01mimport\u001b[39;00m \u001b[38;5;21;01mglob\u001b[39;00m\n\u001b[1;32m      4\u001b[0m \u001b[38;5;28;01mimport\u001b[39;00m \u001b[38;5;21;01mos\u001b[39;00m\n\u001b[0;32m----> 5\u001b[0m \u001b[38;5;28;01mimport\u001b[39;00m \u001b[38;5;21;01msimulatetrna\u001b[39;00m\n",
      "\u001b[0;31mModuleNotFoundError\u001b[0m: No module named 'simulatetrna'"
     ]
    }
   ],
   "source": [
    "import pickle\n",
    "import pandas as pd\n",
    "import glob\n",
    "import os\n",
    "import simulatetrna"
   ]
  },
  {
   "cell_type": "code",
   "execution_count": 6,
   "id": "bc4d1f99",
   "metadata": {},
   "outputs": [],
   "source": [
    "infiles = glob.glob('../input/error_profiles/*.merged.summariseAlignments.pickle')"
   ]
  },
  {
   "cell_type": "code",
   "execution_count": 7,
   "id": "69366408",
   "metadata": {},
   "outputs": [
    {
     "name": "stdout",
     "output_type": "stream",
     "text": [
      "['../input/error_profiles/YAMATseq_MCF7_C.merged.summariseAlignments.pickle', '../input/error_profiles/YAMATseq_MCF7_A.merged.summariseAlignments.pickle', '../input/error_profiles/YAMATseq_MCF7_B.merged.summariseAlignments.pickle', '../input/error_profiles/YAMATseq_BT20_B.merged.summariseAlignments.pickle', '../input/error_profiles/YAMATseq_BT20_C.merged.summariseAlignments.pickle', '../input/error_profiles/YAMATseq_BT20_A.merged.summariseAlignments.pickle']\n"
     ]
    }
   ],
   "source": [
    "print(infiles)"
   ]
  },
  {
   "cell_type": "code",
   "execution_count": 8,
   "id": "d659c2e7",
   "metadata": {},
   "outputs": [
    {
     "ename": "ModuleNotFoundError",
     "evalue": "No module named 'simulatetrna'",
     "output_type": "error",
     "traceback": [
      "\u001b[0;31m---------------------------------------------------------------------------\u001b[0m",
      "\u001b[0;31mModuleNotFoundError\u001b[0m                       Traceback (most recent call last)",
      "Input \u001b[0;32mIn [8]\u001b[0m, in \u001b[0;36m<cell line: 4>\u001b[0;34m()\u001b[0m\n\u001b[1;32m      2\u001b[0m end_df \u001b[38;5;241m=\u001b[39m []\n\u001b[1;32m      4\u001b[0m \u001b[38;5;28;01mfor\u001b[39;00m infile \u001b[38;5;129;01min\u001b[39;00m infiles:\n\u001b[0;32m----> 5\u001b[0m     alignment_summary \u001b[38;5;241m=\u001b[39m \u001b[43mpickle\u001b[49m\u001b[38;5;241;43m.\u001b[39;49m\u001b[43mload\u001b[49m\u001b[43m(\u001b[49m\u001b[38;5;28;43mopen\u001b[39;49m\u001b[43m(\u001b[49m\u001b[43minfile\u001b[49m\u001b[43m,\u001b[49m\u001b[43m \u001b[49m\u001b[38;5;124;43m'\u001b[39;49m\u001b[38;5;124;43mrb\u001b[39;49m\u001b[38;5;124;43m'\u001b[39;49m\u001b[43m)\u001b[49m\u001b[43m)\u001b[49m\n\u001b[1;32m      6\u001b[0m     sample_name \u001b[38;5;241m=\u001b[39m os\u001b[38;5;241m.\u001b[39mpath\u001b[38;5;241m.\u001b[39mbasename(infile)\u001b[38;5;241m.\u001b[39mreplace(\u001b[38;5;124m'\u001b[39m\u001b[38;5;124m.merged.summariseAlignments.pickle\u001b[39m\u001b[38;5;124m'\u001b[39m, \u001b[38;5;124m'\u001b[39m\u001b[38;5;124m'\u001b[39m)\n\u001b[1;32m      7\u001b[0m     quant_method \u001b[38;5;241m=\u001b[39m sample_name\u001b[38;5;241m.\u001b[39msplit(\u001b[38;5;124m'\u001b[39m\u001b[38;5;124m_\u001b[39m\u001b[38;5;124m'\u001b[39m)[\u001b[38;5;241m0\u001b[39m]\n",
      "\u001b[0;31mModuleNotFoundError\u001b[0m: No module named 'simulatetrna'"
     ]
    }
   ],
   "source": [
    "start_df = []\n",
    "end_df = []\n",
    "\n",
    "for infile in infiles:\n",
    "    alignment_summary = pickle.load(open(infile, 'rb'))\n",
    "    sample_name = os.path.basename(infile).replace('.merged.summariseAlignments.pickle', '')\n",
    "    quant_method = sample_name.split('_')[0]\n",
    "    sample = '_'.join(sample_name.split('_')[1:]).replace('Hsap_', '')\n",
    "    starts = []\n",
    "    ends = []\n",
    "    for trna in alignment_summary.alignment_coordinates.keys():\n",
    "        for end, start_counts in alignment_summary.alignment_coordinates[trna].items():\n",
    "            ends.append([sample, quant_method, trna, end, sum(start_counts.values())])\n",
    "            for start, count in start_counts.items():\n",
    "                starts.append([sample, quant_method, trna, start, count])\n",
    "            \n",
    "    end_df.append(pd.DataFrame.from_records(\n",
    "        ends, columns=['sample', 'quant_method', 'trna', 'end', 'frequency']))\n",
    "    \n",
    "    start_df.append(pd.DataFrame.from_records(\n",
    "        starts, columns=['sample', 'quant_method', 'trna', 'start', 'frequency']))"
   ]
  }
 ],
 "metadata": {
  "kernelspec": {
   "display_name": "Python 3 (ipykernel)",
   "language": "python",
   "name": "python3"
  },
  "language_info": {
   "codemirror_mode": {
    "name": "ipython",
    "version": 3
   },
   "file_extension": ".py",
   "mimetype": "text/x-python",
   "name": "python",
   "nbconvert_exporter": "python",
   "pygments_lexer": "ipython3",
   "version": "3.10.9"
  }
 },
 "nbformat": 4,
 "nbformat_minor": 5
}
